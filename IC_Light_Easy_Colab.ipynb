{
 "cells": [
  {
   "cell_type": "markdown",
   "id": "7d115a73",
   "metadata": {},
   "source": [
    "# 🌟 IC Light Professional - One-Click Setup\n",
    "\n",
    "[![Open In Colab](https://colab.research.google.com/assets/colab-badge.svg)](https://colab.research.google.com/github/salmanabjam/ic-light-professional/blob/main/IC_Light_Easy_Colab.ipynb)\n",
    "\n",
    "**Professional AI Image Relighting - Ready in 3 steps!**\n",
    "\n",
    "✨ **Just like Fooocus - Super Easy Setup:**\n",
    "- One-click installation\n",
    "- Automatic model download\n",
    "- Professional Gradio interface\n",
    "- Share link for easy access\n",
    "\n",
    "---"
   ]
  },
  {
   "cell_type": "markdown",
   "id": "48b1afcb",
   "metadata": {},
   "source": [
    "## 🚀 Step 1: Quick Setup & Clone Repository\n",
    "**Just like your Fooocus command - Simple & Fast!**"
   ]
  },
  {
   "cell_type": "code",
   "execution_count": null,
   "id": "8de02213",
   "metadata": {},
   "outputs": [],
   "source": [
    "# 🎯 One-Click Setup (Similar to Fooocus)\n",
    "print(\"🚀 IC Light Professional - Easy Setup\")\n",
    "print(\"=\"*50)\n",
    "\n",
    "# Install required packages\n",
    "!pip install torch==2.1.0 torchvision==0.16.0 --index-url https://download.pytorch.org/whl/cu121\n",
    "!pip install diffusers==0.27.2 transformers==4.35.0 accelerate==0.25.0\n",
    "!pip install gradio==4.44.0 spaces==0.19.4\n",
    "!pip install opencv-python-headless pillow requests safetensors\n",
    "\n",
    "# Navigate to content directory\n",
    "%cd /content\n",
    "\n",
    "# Clone the repository (Your IC Light Professional)\n",
    "!git clone https://github.com/salmanabjam/ic-light-professional.git\n",
    "\n",
    "# Navigate to project directory\n",
    "%cd /content/ic-light-professional\n",
    "\n",
    "print \"\\n✅ Setup Complete! Ready to launch...\\n\""
   ]
  },
  {
   "cell_type": "markdown",
   "id": "5bf1c096",
   "metadata": {},
   "source": [
    "## 🎨 Step 2: Install IC Light Dependencies\n",
    "**Installing all required packages for professional image relighting**"
   ]
  },
  {
   "cell_type": "code",
   "execution_count": null,
   "id": "8d6ba16f",
   "metadata": {},
   "outputs": [],
   "source": [
    "# Install IC Light specific requirements\n",
    "!pip install -r requirements.txt\n",
    "\n",
    "# Install additional visualization packages\n",
    "!pip install plotly==5.17.0 matplotlib==3.7.2\n",
    "!pip install huggingface-hub==0.20.0\n",
    "\n",
    "print(\"✅ All dependencies installed successfully!\")"
   ]
  },
  {
   "cell_type": "markdown",
   "id": "2d018bd5",
   "metadata": {},
   "source": [
    "## 🌟 Step 3: Launch IC Light Professional\n",
    "**Launch the application with share link (Just like Fooocus --share)**"
   ]
  },
  {
   "cell_type": "code",
   "execution_count": null,
   "id": "f76b91e9",
   "metadata": {},
   "outputs": [],
   "source": [
    "# 🚀 Launch IC Light Professional (Similar to Fooocus entry_with_update.py --share)\n",
    "print(\"🌟 Launching IC Light Professional...\")\n",
    "print(\"🔗 Share link will be generated automatically!\")\n",
    "print(\"=\"*60)\n",
    "\n",
    "# Run the application with share enabled\n",
    "!python launch.py --share --colab\n",
    "\n",
    "# Alternative: If launch.py doesn't work, use direct import\n",
    "# import sys\n",
    "# sys.path.append('/content/ic-light-professional')\n",
    "# from ic_light.app import ICLightApp\n",
    "# \n",
    "# app = ICLightApp()\n",
    "# interface = app.create_interface()\n",
    "# interface.launch(share=True, server_name=\"0.0.0.0\", server_port=7860)"
   ]
  },
  {
   "cell_type": "markdown",
   "id": "aa9d3ecc",
   "metadata": {},
   "source": [
    "## 🎯 How to Use Your IC Light Professional\n",
    "\n",
    "### 🖼️ **Image Relighting Process:**\n",
    "\n",
    "1. **Upload Image**: Choose your input image\n",
    "2. **Select Model**: \n",
    "   - **FC**: Foreground Conditional (recommended for most images)\n",
    "   - **FBC**: Foreground + Background Conditional\n",
    "   - **FCON**: Foreground Conditional Only\n",
    "3. **Adjust Settings**: \n",
    "   - Prompt: Describe desired lighting (e.g., \"soft warm lighting\")\n",
    "   - Steps: 20-50 (higher = better quality)\n",
    "   - Guidance: 5-15 (how closely to follow prompt)\n",
    "4. **Generate**: Click process and get professional results!\n",
    "\n",
    "### 🌟 **Features Available:**\n",
    "- ✅ Professional Gradio 4.0+ interface\n",
    "- ✅ Real-time GPU processing\n",
    "- ✅ Background removal option\n",
    "- ✅ Batch processing\n",
    "- ✅ Advanced analytics dashboard\n",
    "- ✅ Export high-quality results\n",
    "\n",
    "### 🔗 **Share Link:**\n",
    "After running the code above, you'll get a **public share link** that you can use anywhere!\n",
    "\n",
    "---\n",
    "\n",
    "**🎉 Enjoy your professional AI image relighting tool!**\n",
    "\n",
    "**Repository**: [salmanabjam/ic-light-professional](https://github.com/salmanabjam/ic-light-professional)"
   ]
  }
 ],
 "metadata": {
  "language_info": {
   "name": "python"
  }
 },
 "nbformat": 4,
 "nbformat_minor": 5
}
